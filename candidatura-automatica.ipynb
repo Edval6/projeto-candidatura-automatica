{
 "cells": [
  {
   "cell_type": "code",
   "execution_count": null,
   "id": "f75134c6",
   "metadata": {},
   "outputs": [],
   "source": [
    "import os #biblioteca para tratamento de strings\n",
    "import requests #biblioteca para solicitacoes nos sites\n",
    "from selenium import webdriver #... para controlo do navegador\n",
    "from bs4 import BeautifulSoup #... para scrapping nos sites\n",
    "import urllib.request \n",
    "from selenium.webdriver.common.by import By\n",
    "import time #... para utlizar a funcao de tempo\n",
    "\n",
    "# Acessando o website\n",
    "url = 'https://www.emprego.co.mz/categoria/informatica-e-programacao/'\n",
    "\n",
    "headers = {\n",
    "        'User-Agent': \"Mozilla/5.0 (Windows NT 10.0; Win64; x64) AppleWebKit/537.36 (KHTML, like Gecko) Chrome/86.0.4240.198 Safari/537.36\"}\n",
    "\n",
    "# Obtendo o conteudo do site\n",
    "site = requests.get(url, headers=headers)\n",
    "soup = BeautifulSoup(site.content, 'html.parser')\n",
    "titulos = soup.find('div', class_='content-display adjust clearfix')\n",
    "\n",
    "vaga = titulos.find_all('li', class_='col1 left bold')\n",
    "for n in vaga:\n",
    "    link = n.find('a', href=True) # encontrando todos os links das vagas\n",
    "    \n",
    "    ligacao = link['href'] \n",
    "    \n",
    "    # Acessando cada link das vagas\n",
    "    navegador = webdriver.Chrome() \n",
    "    nav1 = navegador.get(f'{ligacao}')\n",
    "    time.sleep(3)\n",
    "    \n",
    "    # Obtendo e verificando caada titulo das vagas\n",
    "    site2 = requests.get(ligacao, headers=headers)\n",
    "    soup2 = BeautifulSoup(site2.content, 'html.parser')\n",
    "    \n",
    "    nome_vaga = soup2.find('div', class_='content-col-1-2 adjust content-vacancy')\n",
    "    n_vaga = nome_vaga.find('h1', class_='h3')\n",
    "    nom = n_vaga.get_text().lower()\n",
    "    if \"developer\" in nom:\n",
    "        print(nom)\n",
    "    elif \"desenvolvedor\" in nom:\n",
    "        print(nom)\n",
    "    elif \"programador\" in nom:\n",
    "        print(nom)\n",
    "    else:\n",
    "        print(\"Nao existem vagas!\")"
   ]
  },
  {
   "cell_type": "code",
   "execution_count": null,
   "id": "98e5be6b",
   "metadata": {},
   "outputs": [],
   "source": []
  }
 ],
 "metadata": {
  "kernelspec": {
   "display_name": "Python 3 (ipykernel)",
   "language": "python",
   "name": "python3"
  },
  "language_info": {
   "codemirror_mode": {
    "name": "ipython",
    "version": 3
   },
   "file_extension": ".py",
   "mimetype": "text/x-python",
   "name": "python",
   "nbconvert_exporter": "python",
   "pygments_lexer": "ipython3",
   "version": "3.9.12"
  }
 },
 "nbformat": 4,
 "nbformat_minor": 5
}
